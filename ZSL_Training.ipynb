{
  "nbformat": 4,
  "nbformat_minor": 0,
  "metadata": {
    "colab": {
      "name": "ZSL_Training.ipynb",
      "version": "0.3.2",
      "provenance": [],
      "include_colab_link": true
    },
    "kernelspec": {
      "name": "python2",
      "display_name": "Python 2"
    },
    "accelerator": "GPU"
  },
  "cells": [
    {
      "cell_type": "markdown",
      "metadata": {
        "id": "view-in-github",
        "colab_type": "text"
      },
      "source": [
        "<a href=\"https://colab.research.google.com/github/Mary82/cross-Modal-Learning/blob/master/ZSL_Training.ipynb\" target=\"_parent\"><img src=\"https://colab.research.google.com/assets/colab-badge.svg\" alt=\"Open In Colab\"/></a>"
      ]
    },
    {
      "metadata": {
        "id": "xSoj3qXUGRxU",
        "colab_type": "code",
        "colab": {
          "base_uri": "https://localhost:8080/",
          "height": 139
        },
        "outputId": "db35fdfe-a2ed-44f1-bc1c-3a268ef4576c"
      },
      "cell_type": "code",
      "source": [
        "import keras\n",
        "from keras.models import Sequential\n",
        "from keras.preprocessing.image import ImageDataGenerator\n",
        "from keras.layers import Dense, Activation, Flatten, Dropout, BatchNormalization\n",
        "from keras.layers import Conv2D, MaxPooling2D,Input\n",
        "from keras.layers.merge import Concatenate\n",
        "from keras import regularizers\n",
        "from keras.callbacks import LearningRateScheduler\n",
        "import numpy as np\n",
        "import keras.backend as K\n",
        "from keras.models import Model\n",
        "from keras.layers.core import Lambda\n",
        "from keras.optimizers import Adam\n",
        "import random\n",
        "import itertools\n",
        "from keras.models import model_from_json\n",
        "from google.colab import drive\n",
        "drive.mount('/content/gdrive')\n",
        "import os\n",
        "os.chdir('/content/gdrive/My Drive/Colab Notebooks/')\n",
        "from ZSL_Utility import *"
      ],
      "execution_count": 1,
      "outputs": [
        {
          "output_type": "stream",
          "text": [
            "Using TensorFlow backend.\n"
          ],
          "name": "stderr"
        },
        {
          "output_type": "stream",
          "text": [
            "Go to this URL in a browser: https://accounts.google.com/o/oauth2/auth?client_id=947318989803-6bn6qk8qdgf4n4g3pfee6491hc0brc4i.apps.googleusercontent.com&redirect_uri=urn%3Aietf%3Awg%3Aoauth%3A2.0%3Aoob&scope=email%20https%3A%2F%2Fwww.googleapis.com%2Fauth%2Fdocs.test%20https%3A%2F%2Fwww.googleapis.com%2Fauth%2Fdrive%20https%3A%2F%2Fwww.googleapis.com%2Fauth%2Fdrive.photos.readonly%20https%3A%2F%2Fwww.googleapis.com%2Fauth%2Fpeopleapi.readonly&response_type=code\n",
            "\n",
            "Enter your authorization code:\n",
            "··········\n",
            "Mounted at /content/gdrive\n"
          ],
          "name": "stdout"
        }
      ]
    },
    {
      "metadata": {
        "id": "uGbY_UVcGqpL",
        "colab_type": "code",
        "colab": {
          "base_uri": "https://localhost:8080/",
          "height": 935
        },
        "outputId": "41a5f041-c41f-4ef7-d55a-b4b588ce9386"
      },
      "cell_type": "code",
      "source": [
        "num_classes = 100\n",
        "json_file = open('Models/cifar_model.json', 'r')\n",
        "loaded_model_json = json_file.read()\n",
        "json_file.close()\n",
        "cifar_model = model_from_json(loaded_model_json)\n",
        "# load weights into new model\n",
        "cifar_model.load_weights('Models/CIFAR100_Weight.h5')\n",
        "print(\"CIFAR model loaded from disk\")\n",
        "cifar_model.summary()"
      ],
      "execution_count": 2,
      "outputs": [
        {
          "output_type": "stream",
          "text": [
            "CIFAR model loaded from disk\n",
            "_________________________________________________________________\n",
            "Layer (type)                 Output Shape              Param #   \n",
            "=================================================================\n",
            "conv2d_1 (Conv2D)            (None, 32, 32, 128)       3584      \n",
            "_________________________________________________________________\n",
            "activation_1 (Activation)    (None, 32, 32, 128)       0         \n",
            "_________________________________________________________________\n",
            "conv2d_2 (Conv2D)            (None, 30, 30, 128)       147584    \n",
            "_________________________________________________________________\n",
            "activation_2 (Activation)    (None, 30, 30, 128)       0         \n",
            "_________________________________________________________________\n",
            "max_pooling2d_1 (MaxPooling2 (None, 15, 15, 128)       0         \n",
            "_________________________________________________________________\n",
            "conv2d_3 (Conv2D)            (None, 15, 15, 256)       295168    \n",
            "_________________________________________________________________\n",
            "activation_3 (Activation)    (None, 15, 15, 256)       0         \n",
            "_________________________________________________________________\n",
            "conv2d_4 (Conv2D)            (None, 13, 13, 256)       590080    \n",
            "_________________________________________________________________\n",
            "activation_4 (Activation)    (None, 13, 13, 256)       0         \n",
            "_________________________________________________________________\n",
            "max_pooling2d_2 (MaxPooling2 (None, 6, 6, 256)         0         \n",
            "_________________________________________________________________\n",
            "dropout_1 (Dropout)          (None, 6, 6, 256)         0         \n",
            "_________________________________________________________________\n",
            "conv2d_5 (Conv2D)            (None, 6, 6, 512)         1180160   \n",
            "_________________________________________________________________\n",
            "activation_5 (Activation)    (None, 6, 6, 512)         0         \n",
            "_________________________________________________________________\n",
            "conv2d_6 (Conv2D)            (None, 4, 4, 512)         2359808   \n",
            "_________________________________________________________________\n",
            "activation_6 (Activation)    (None, 4, 4, 512)         0         \n",
            "_________________________________________________________________\n",
            "max_pooling2d_3 (MaxPooling2 (None, 2, 2, 512)         0         \n",
            "_________________________________________________________________\n",
            "dropout_2 (Dropout)          (None, 2, 2, 512)         0         \n",
            "_________________________________________________________________\n",
            "flatten_1 (Flatten)          (None, 2048)              0         \n",
            "_________________________________________________________________\n",
            "dense_1 (Dense)              (None, 1024)              2098176   \n",
            "_________________________________________________________________\n",
            "activation_7 (Activation)    (None, 1024)              0         \n",
            "_________________________________________________________________\n",
            "dropout_3 (Dropout)          (None, 1024)              0         \n",
            "_________________________________________________________________\n",
            "dense_2 (Dense)              (None, 100)               102500    \n",
            "_________________________________________________________________\n",
            "activation_8 (Activation)    (None, 100)               0         \n",
            "=================================================================\n",
            "Total params: 6,777,060\n",
            "Trainable params: 6,777,060\n",
            "Non-trainable params: 0\n",
            "_________________________________________________________________\n"
          ],
          "name": "stdout"
        }
      ]
    },
    {
      "metadata": {
        "id": "TZlKkmzoHdj8",
        "colab_type": "code",
        "colab": {
          "base_uri": "https://localhost:8080/",
          "height": 34
        },
        "outputId": "9f374381-31ac-4e76-f0a2-09e7916b84d4"
      },
      "cell_type": "code",
      "source": [
        "img_emb_json_file = open('Models/img_emb_model.json', 'r')\n",
        "loaded_model_json = img_emb_json_file.read()\n",
        "img_emb_json_file.close()\n",
        "img_emb_model = model_from_json(loaded_model_json)\n",
        "# load weights into new model\n",
        "img_emb_model.load_weights('Models/img_emb_model.h5')\n",
        "print(\"Image embedding model loaded from disk\")\n"
      ],
      "execution_count": 3,
      "outputs": [
        {
          "output_type": "stream",
          "text": [
            "Image embedding model loaded from disk\n"
          ],
          "name": "stdout"
        }
      ]
    },
    {
      "metadata": {
        "id": "BViie7M3H3So",
        "colab_type": "code",
        "colab": {
          "base_uri": "https://localhost:8080/",
          "height": 68
        },
        "outputId": "a52fe5d2-5fe0-47f1-bf56-cce26590af18"
      },
      "cell_type": "code",
      "source": [
        "X_cnn_layer, X_emb, Ys = load_data(cifar_model, 'max_pooling2d_2', img_emb_model, num_classes)\n"
      ],
      "execution_count": 4,
      "outputs": [
        {
          "output_type": "stream",
          "text": [
            "Downloading data from https://www.cs.toronto.edu/~kriz/cifar-100-python.tar.gz\n",
            "169009152/169001437 [==============================] - 55s 0us/step\n",
            "169017344/169001437 [==============================] - 55s 0us/step\n"
          ],
          "name": "stdout"
        }
      ]
    },
    {
      "metadata": {
        "id": "whvUBAoaH56z",
        "colab_type": "code",
        "colab": {
          "base_uri": "https://localhost:8080/",
          "height": 51
        },
        "outputId": "f34b027a-8e5c-4323-aa62-1efe832b1259"
      },
      "cell_type": "code",
      "source": [
        "print  X_cnn_layer.shape\n",
        "print X_emb.shape"
      ],
      "execution_count": 6,
      "outputs": [
        {
          "output_type": "stream",
          "text": [
            "(10000, 6, 6, 256)\n",
            "(10000, 128)\n"
          ],
          "name": "stdout"
        }
      ]
    },
    {
      "metadata": {
        "id": "ZzlUlLcHK3D6",
        "colab_type": "code",
        "colab": {}
      },
      "cell_type": "code",
      "source": [
        "def unpickle(file):\n",
        "    import pickle\n",
        "    with open(file, 'rb') as fo:\n",
        "        dict = pickle.load(fo)\n",
        "    return dict\n",
        "\n",
        "\n"
      ],
      "execution_count": 0,
      "outputs": []
    },
    {
      "metadata": {
        "id": "zlg-370-K8uW",
        "colab_type": "code",
        "colab": {}
      },
      "cell_type": "code",
      "source": [
        "label_names = unpickle(\"Models/meta\")\n",
        "names = [x.replace('_', ' ') for x in label_names['fine_label_names']]\n",
        "#print names\n",
        "names[names.index('lawn mower')] = 'mower'"
      ],
      "execution_count": 0,
      "outputs": []
    },
    {
      "metadata": {
        "id": "XVlLjx6UK_Gx",
        "colab_type": "code",
        "colab": {}
      },
      "cell_type": "code",
      "source": [
        "with open('Models/glove.6B.300d.txt', 'r') as f:\n",
        "    word_emb_dict = {}\n",
        "    for line in f :\n",
        "        split_line = line.split()\n",
        "        word = split_line[0]\n",
        "        vector = np.array(split_line[1:])\n",
        "        word_emb_dict[word] = vector\n",
        "        "
      ],
      "execution_count": 0,
      "outputs": []
    },
    {
      "metadata": {
        "id": "ANxtZFl2LB4m",
        "colab_type": "code",
        "colab": {
          "base_uri": "https://localhost:8080/",
          "height": 34
        },
        "outputId": "45925f9d-aa72-4ed0-877f-b04de51fbeaf"
      },
      "cell_type": "code",
      "source": [
        "subjects = np.unique(Ys).tolist()\n",
        "final_label = []\n",
        "for subj in subjects:\n",
        "    if names[subj] in word_emb_dict :\n",
        "        final_label.append(subj)\n",
        "        \n",
        "print \"Availabe labels: \", len(final_label)"
      ],
      "execution_count": 13,
      "outputs": [
        {
          "output_type": "stream",
          "text": [
            "Availabe labels:  92\n"
          ],
          "name": "stdout"
        }
      ]
    },
    {
      "metadata": {
        "id": "zfBVi-LGLpOl",
        "colab_type": "code",
        "colab": {
          "base_uri": "https://localhost:8080/",
          "height": 34
        },
        "outputId": "e6a425d0-813a-42ec-851e-998684cfde74"
      },
      "cell_type": "code",
      "source": [
        ""
      ],
      "execution_count": 12,
      "outputs": [
        {
          "output_type": "execute_result",
          "data": {
            "text/plain": [
              "(1200, 1)"
            ]
          },
          "metadata": {
            "tags": []
          },
          "execution_count": 12
        }
      ]
    },
    {
      "metadata": {
        "id": "Qdenh-LbLs4o",
        "colab_type": "code",
        "colab": {}
      },
      "cell_type": "code",
      "source": [
        "train_sub = random.sample( final_label,82) \n",
        "test_sub = list(set(final_label) - set(train_sub))\n",
        "train_data = np.where(np.isin(Ys, train_sub))[0] \n",
        "test_data = np.where(np.isin(Ys, test_sub))[0] \n",
        "\n",
        "X_cnn_layer_train = X_cnn_layer[train_data]\n",
        "X_emb_train = X_emb[train_data]\n",
        "Y_train = Ys[train_data]\n",
        "\n",
        "X_cnn_layer_test = X_cnn_layer[test_data]\n",
        "X_emb_test = X_emb[test_data]\n",
        "Y_test = Ys[test_data]\n"
      ],
      "execution_count": 0,
      "outputs": []
    },
    {
      "metadata": {
        "id": "tQPQlIuOMAV1",
        "colab_type": "code",
        "colab": {}
      },
      "cell_type": "code",
      "source": [
        "Y_labels_train = np.array(names)[Y_train]\n",
        "Y_glove_train = [word_emb_dict[x[0]] for x in Y_labels_train]\n",
        "Y_glove_train = np.array(Y_glove_train).astype('float64')\n",
        "\n",
        "Y_labels_test = np.array(names)[Y_test]\n",
        "Y_glove_test = [word_emb_dict[x[0]] for x in Y_labels_test]\n",
        "Y_glove_test = np.array(Y_glove_test).astype('float64')\n"
      ],
      "execution_count": 0,
      "outputs": []
    },
    {
      "metadata": {
        "id": "Ycta3yrKMCLL",
        "colab_type": "code",
        "colab": {
          "base_uri": "https://localhost:8080/",
          "height": 51
        },
        "outputId": "931377e9-dc43-4d95-ee62-a333399815f3"
      },
      "cell_type": "code",
      "source": [
        "print Y_glove_train.shape\n",
        "print Y_glove_test.shape"
      ],
      "execution_count": 19,
      "outputs": [
        {
          "output_type": "stream",
          "text": [
            "(8200, 300)\n",
            "(1000, 300)\n"
          ],
          "name": "stdout"
        }
      ]
    },
    {
      "metadata": {
        "id": "dEGgxs8eMUjv",
        "colab_type": "code",
        "colab": {}
      },
      "cell_type": "code",
      "source": [
        "def build_model(embed_n_in, conv_n_in):\n",
        "    emb_input = Input(embed_n_in)\n",
        "    conv_input = Input(conv_n_in)\n",
        "    X = Conv2D(128, (1,1), activation='elu')(conv_input)\n",
        "    #X = MaxPooling2D(pool_size=(2, 2))(X)\n",
        "    X = Dropout(.3)(X)\n",
        "    X = Conv2D(64, (1,1), activation='elu')(X)\n",
        "    X = Flatten()(X)\n",
        "    X = Dense(512, activation = 'elu')(X)\n",
        "    X = Lambda(lambda  x: K.l2_normalize(x,axis=1))(X)\n",
        "    X = Concatenate(axis = -1)([X,emb_input])\n",
        "    X = Dropout(.3)(X)\n",
        "    #X = Dense(600, activation = 'elu')(X)\n",
        "    #X = Dropout(.2)(X)\n",
        "    X = Dense(300,activation = 'elu' )(X)\n",
        "    X = Lambda(lambda  x: K.l2_normalize(x,axis=1))(X)\n",
        "    model = Model(inputs = [emb_input,conv_input], outputs = X)\n",
        "    #model.load_weights('Models/ZSL_model.h5')\n",
        "    return model\n",
        "    \n"
      ],
      "execution_count": 0,
      "outputs": []
    },
    {
      "metadata": {
        "id": "GPekiXpXPY22",
        "colab_type": "code",
        "colab": {
          "base_uri": "https://localhost:8080/",
          "height": 561
        },
        "outputId": "aae267d3-7d02-4d1c-f45c-1b8fd3240712"
      },
      "cell_type": "code",
      "source": [
        "ZSL_model = build_model(X_emb_train.shape[1:], X_cnn_layer_train.shape[1:])\n",
        "ZSL_model.summary()\n",
        "#ZSL_model.load_weights('Models/ZSL_model.h5')\n"
      ],
      "execution_count": 26,
      "outputs": [
        {
          "output_type": "stream",
          "text": [
            "__________________________________________________________________________________________________\n",
            "Layer (type)                    Output Shape         Param #     Connected to                     \n",
            "==================================================================================================\n",
            "input_6 (InputLayer)            (None, 6, 6, 256)    0                                            \n",
            "__________________________________________________________________________________________________\n",
            "conv2d_5 (Conv2D)               (None, 6, 6, 128)    32896       input_6[0][0]                    \n",
            "__________________________________________________________________________________________________\n",
            "dropout_5 (Dropout)             (None, 6, 6, 128)    0           conv2d_5[0][0]                   \n",
            "__________________________________________________________________________________________________\n",
            "conv2d_6 (Conv2D)               (None, 6, 6, 64)     8256        dropout_5[0][0]                  \n",
            "__________________________________________________________________________________________________\n",
            "flatten_3 (Flatten)             (None, 2304)         0           conv2d_6[0][0]                   \n",
            "__________________________________________________________________________________________________\n",
            "dense_5 (Dense)                 (None, 512)          1180160     flatten_3[0][0]                  \n",
            "__________________________________________________________________________________________________\n",
            "lambda_5 (Lambda)               (None, 512)          0           dense_5[0][0]                    \n",
            "__________________________________________________________________________________________________\n",
            "input_5 (InputLayer)            (None, 128)          0                                            \n",
            "__________________________________________________________________________________________________\n",
            "concatenate_3 (Concatenate)     (None, 640)          0           lambda_5[0][0]                   \n",
            "                                                                 input_5[0][0]                    \n",
            "__________________________________________________________________________________________________\n",
            "dropout_6 (Dropout)             (None, 640)          0           concatenate_3[0][0]              \n",
            "__________________________________________________________________________________________________\n",
            "dense_6 (Dense)                 (None, 300)          192300      dropout_6[0][0]                  \n",
            "__________________________________________________________________________________________________\n",
            "lambda_6 (Lambda)               (None, 300)          0           dense_6[0][0]                    \n",
            "==================================================================================================\n",
            "Total params: 1,413,612\n",
            "Trainable params: 1,413,612\n",
            "Non-trainable params: 0\n",
            "__________________________________________________________________________________________________\n"
          ],
          "name": "stdout"
        }
      ]
    },
    {
      "metadata": {
        "id": "0_yhXIvmPcls",
        "colab_type": "code",
        "colab": {}
      },
      "cell_type": "code",
      "source": [
        "opt = keras.optimizers.sgd(lr = .0001)\n",
        "ZSL_model.compile(loss=euclidean_distance_loss, optimizer= opt)\n"
      ],
      "execution_count": 0,
      "outputs": []
    },
    {
      "metadata": {
        "id": "-ZiMUEuiTYzt",
        "colab_type": "code",
        "colab": {
          "base_uri": "https://localhost:8080/",
          "height": 697
        },
        "outputId": "16607497-dbaa-4a79-982b-e745f1e752e4"
      },
      "cell_type": "code",
      "source": [
        "ZSL_model.fit([X_emb_train,X_cnn_layer_train], Y_glove_train, batch_size = 128, verbose = 1, epochs = 10)\n",
        "ZSL_model.fit([X_emb_train,X_cnn_layer_train], Y_glove_train, batch_size = 128, verbose = 0, epochs = 3600)\n",
        "ZSL_model.fit([X_emb_train,X_cnn_layer_train], Y_glove_train, batch_size = 128, verbose = 1, epochs = 10)\n",
        "ZSL_model.save_weights('Models/ZSL_model_1.h5') "
      ],
      "execution_count": 41,
      "outputs": [
        {
          "output_type": "stream",
          "text": [
            "Epoch 1/10\n",
            "8200/8200 [==============================] - 1s 144us/step - loss: 5.9301\n",
            "Epoch 2/10\n",
            "8200/8200 [==============================] - 1s 92us/step - loss: 5.9250\n",
            "Epoch 3/10\n",
            "8200/8200 [==============================] - 1s 93us/step - loss: 5.9293\n",
            "Epoch 4/10\n",
            "8200/8200 [==============================] - 1s 93us/step - loss: 5.9285\n",
            "Epoch 5/10\n",
            "8200/8200 [==============================] - 1s 91us/step - loss: 5.9289\n",
            "Epoch 6/10\n",
            "8200/8200 [==============================] - 1s 91us/step - loss: 5.9283\n",
            "Epoch 7/10\n",
            "8200/8200 [==============================] - 1s 93us/step - loss: 5.9272\n",
            "Epoch 8/10\n",
            "8200/8200 [==============================] - 1s 90us/step - loss: 5.9286\n",
            "Epoch 9/10\n",
            "8200/8200 [==============================] - 1s 92us/step - loss: 5.9295\n",
            "Epoch 10/10\n",
            "8200/8200 [==============================] - 1s 92us/step - loss: 5.9289\n",
            "Epoch 1/10\n",
            "8200/8200 [==============================] - 1s 89us/step - loss: 5.9213\n",
            "Epoch 2/10\n",
            "8200/8200 [==============================] - 1s 89us/step - loss: 5.9198\n",
            "Epoch 3/10\n",
            "8200/8200 [==============================] - 1s 93us/step - loss: 5.9195\n",
            "Epoch 4/10\n",
            "8200/8200 [==============================] - 1s 90us/step - loss: 5.9217\n",
            "Epoch 5/10\n",
            "8200/8200 [==============================] - 1s 89us/step - loss: 5.9198\n",
            "Epoch 6/10\n",
            "8200/8200 [==============================] - 1s 92us/step - loss: 5.9211\n",
            "Epoch 7/10\n",
            "8200/8200 [==============================] - 1s 95us/step - loss: 5.9176\n",
            "Epoch 8/10\n",
            "8200/8200 [==============================] - 1s 90us/step - loss: 5.9196\n",
            "Epoch 9/10\n",
            "8200/8200 [==============================] - 1s 89us/step - loss: 5.9205\n",
            "Epoch 10/10\n",
            "8200/8200 [==============================] - 1s 89us/step - loss: 5.9204\n"
          ],
          "name": "stdout"
        }
      ]
    },
    {
      "metadata": {
        "id": "0TcVElxvToYu",
        "colab_type": "code",
        "colab": {
          "base_uri": "https://localhost:8080/",
          "height": 51
        },
        "outputId": "e52a4c34-b4fb-48bd-a72b-0546641ad9c5"
      },
      "cell_type": "code",
      "source": [
        ""
      ],
      "execution_count": 32,
      "outputs": [
        {
          "output_type": "stream",
          "text": [
            "1000/1000 [==============================] - 0s 61us/step\n"
          ],
          "name": "stdout"
        },
        {
          "output_type": "execute_result",
          "data": {
            "text/plain": [
              "6.886125499725342"
            ]
          },
          "metadata": {
            "tags": []
          },
          "execution_count": 32
        }
      ]
    },
    {
      "metadata": {
        "id": "AKBKXmYUY66M",
        "colab_type": "code",
        "colab": {}
      },
      "cell_type": "code",
      "source": [
        ""
      ],
      "execution_count": 0,
      "outputs": []
    }
  ]
}