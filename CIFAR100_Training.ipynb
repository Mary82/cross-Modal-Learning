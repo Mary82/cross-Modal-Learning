{
  "nbformat": 4,
  "nbformat_minor": 0,
  "metadata": {
    "colab": {
      "name": "CIFAR100_Training.ipynb",
      "version": "0.3.2",
      "provenance": [],
      "collapsed_sections": [],
      "include_colab_link": true
    },
    "kernelspec": {
      "name": "python2",
      "display_name": "Python 2"
    },
    "accelerator": "GPU"
  },
  "cells": [
    {
      "cell_type": "markdown",
      "metadata": {
        "id": "view-in-github",
        "colab_type": "text"
      },
      "source": [
        "<a href=\"https://colab.research.google.com/github/Mary82/cross-Modal-Learning/blob/master/CIFAR100_Training.ipynb\" target=\"_parent\"><img src=\"https://colab.research.google.com/assets/colab-badge.svg\" alt=\"Open In Colab\"/></a>"
      ]
    },
    {
      "metadata": {
        "id": "Gx55dxkOrL2E",
        "colab_type": "code",
        "colab": {}
      },
      "cell_type": "code",
      "source": [
        "import keras\n",
        "from keras.models import Sequential\n",
        "from keras.preprocessing.image import ImageDataGenerator\n",
        "from keras.layers import Dense, Activation, Flatten, Dropout, BatchNormalization\n",
        "from keras.layers import Conv2D, MaxPooling2D\n",
        "from keras import regularizers\n",
        "from keras.callbacks import LearningRateScheduler\n",
        "import numpy as np\n",
        "import os \n",
        "from keras.callbacks import ModelCheckpoint\n",
        "from keras.models import model_from_json\n",
        "from google.colab import drive\n",
        "\n",
        "drive.mount('/content/gdrive') \n",
        "\n",
        "os.chdir('/content/gdrive/My Drive/Colab Notebooks/')\n",
        "from CIFAR100_Utiliy import *"
      ],
      "execution_count": 0,
      "outputs": []
    },
    {
      "metadata": {
        "id": "EYsHMwOor3tf",
        "colab_type": "code",
        "outputId": "42e84ce1-f6fa-4611-e1f1-e6862d3b2c01",
        "colab": {
          "base_uri": "https://localhost:8080/",
          "height": 51
        }
      },
      "cell_type": "code",
      "source": [
        "# Load CIFAR100 data\n",
        "\n",
        "num_classes = 100\n",
        "(x_train, y_train), (x_test, y_test) = load_data(num_classes)\n",
        "\n",
        "print \"Shape of x_train: \", x_train.shape \n",
        "print \"Shape of x_test: \", x_test.shape \n"
      ],
      "execution_count": 2,
      "outputs": [
        {
          "output_type": "stream",
          "text": [
            "Shape of x_train:  (50000, 32, 32, 3)\n",
            "Shape of x_test:  (10000, 32, 32, 3)\n"
          ],
          "name": "stdout"
        }
      ]
    },
    {
      "metadata": {
        "id": "Sqshd5DHHiqw",
        "colab_type": "code",
        "colab": {}
      },
      "cell_type": "code",
      "source": [
        "\n",
        "'''\n",
        "CNN MODEL TO TRAIN CIFAR100\n",
        "\n",
        "'''\n",
        "model = Sequential()\n",
        "\n",
        "model.add(Conv2D(128, (3, 3), padding='same',\n",
        "                 input_shape=x_train.shape[1:]))\n",
        "model.add(Activation('elu'))\n",
        "model.add(Conv2D(128, (3, 3)))\n",
        "model.add(Activation('elu'))\n",
        "model.add(MaxPooling2D(pool_size=(2, 2)))\n",
        "#model.add(Dropout(0.25))\n",
        "\n",
        "model.add(Conv2D(256, (3, 3), padding='same'))\n",
        "model.add(Activation('elu'))\n",
        "model.add(Conv2D(256, (3, 3)))\n",
        "model.add(Activation('elu'))\n",
        "model.add(MaxPooling2D(pool_size=(2, 2)))\n",
        "model.add(Dropout(0.25))\n",
        "\n",
        "model.add(Conv2D(512, (3, 3), padding='same'))\n",
        "model.add(Activation('elu'))\n",
        "model.add(Conv2D(512, (3, 3)))\n",
        "model.add(Activation('elu'))\n",
        "model.add(MaxPooling2D(pool_size=(2, 2)))\n",
        "model.add(Dropout(0.25))\n",
        "\n",
        "\n",
        "model.add(Flatten())\n",
        "model.add(Dense(1024))\n",
        "model.add(Activation('elu'))\n",
        "model.add(Dropout(0.5))\n",
        "model.add(Dense(num_classes))\n",
        "model.add(Activation('softmax'))\n",
        "\n"
      ],
      "execution_count": 0,
      "outputs": []
    },
    {
      "metadata": {
        "id": "i279_LntAiY6",
        "colab_type": "code",
        "outputId": "6f72df81-ef49-47cd-fe49-bb6daea798bc",
        "colab": {
          "base_uri": "https://localhost:8080/",
          "height": 918
        }
      },
      "cell_type": "code",
      "source": [
        "model.summary()"
      ],
      "execution_count": 4,
      "outputs": [
        {
          "output_type": "stream",
          "text": [
            "_________________________________________________________________\n",
            "Layer (type)                 Output Shape              Param #   \n",
            "=================================================================\n",
            "conv2d_1 (Conv2D)            (None, 32, 32, 128)       3584      \n",
            "_________________________________________________________________\n",
            "activation_1 (Activation)    (None, 32, 32, 128)       0         \n",
            "_________________________________________________________________\n",
            "conv2d_2 (Conv2D)            (None, 30, 30, 128)       147584    \n",
            "_________________________________________________________________\n",
            "activation_2 (Activation)    (None, 30, 30, 128)       0         \n",
            "_________________________________________________________________\n",
            "max_pooling2d_1 (MaxPooling2 (None, 15, 15, 128)       0         \n",
            "_________________________________________________________________\n",
            "conv2d_3 (Conv2D)            (None, 15, 15, 256)       295168    \n",
            "_________________________________________________________________\n",
            "activation_3 (Activation)    (None, 15, 15, 256)       0         \n",
            "_________________________________________________________________\n",
            "conv2d_4 (Conv2D)            (None, 13, 13, 256)       590080    \n",
            "_________________________________________________________________\n",
            "activation_4 (Activation)    (None, 13, 13, 256)       0         \n",
            "_________________________________________________________________\n",
            "max_pooling2d_2 (MaxPooling2 (None, 6, 6, 256)         0         \n",
            "_________________________________________________________________\n",
            "dropout_1 (Dropout)          (None, 6, 6, 256)         0         \n",
            "_________________________________________________________________\n",
            "conv2d_5 (Conv2D)            (None, 6, 6, 512)         1180160   \n",
            "_________________________________________________________________\n",
            "activation_5 (Activation)    (None, 6, 6, 512)         0         \n",
            "_________________________________________________________________\n",
            "conv2d_6 (Conv2D)            (None, 4, 4, 512)         2359808   \n",
            "_________________________________________________________________\n",
            "activation_6 (Activation)    (None, 4, 4, 512)         0         \n",
            "_________________________________________________________________\n",
            "max_pooling2d_3 (MaxPooling2 (None, 2, 2, 512)         0         \n",
            "_________________________________________________________________\n",
            "dropout_2 (Dropout)          (None, 2, 2, 512)         0         \n",
            "_________________________________________________________________\n",
            "flatten_1 (Flatten)          (None, 2048)              0         \n",
            "_________________________________________________________________\n",
            "dense_1 (Dense)              (None, 1024)              2098176   \n",
            "_________________________________________________________________\n",
            "activation_7 (Activation)    (None, 1024)              0         \n",
            "_________________________________________________________________\n",
            "dropout_3 (Dropout)          (None, 1024)              0         \n",
            "_________________________________________________________________\n",
            "dense_2 (Dense)              (None, 100)               102500    \n",
            "_________________________________________________________________\n",
            "activation_8 (Activation)    (None, 100)               0         \n",
            "=================================================================\n",
            "Total params: 6,777,060\n",
            "Trainable params: 6,777,060\n",
            "Non-trainable params: 0\n",
            "_________________________________________________________________\n"
          ],
          "name": "stdout"
        }
      ]
    },
    {
      "metadata": {
        "id": "_yjMNf0rvFSi",
        "colab_type": "code",
        "colab": {}
      },
      "cell_type": "code",
      "source": [
        "# Load the latest training weight for model\n",
        "model.load_weights('CIFAR100_Weight.h5')\n"
      ],
      "execution_count": 0,
      "outputs": []
    },
    {
      "metadata": {
        "id": "yXgI3WnN-Rdh",
        "colab_type": "code",
        "colab": {}
      },
      "cell_type": "code",
      "source": [
        "\n",
        "# initiate RMSprop optimizer\n",
        "opt = keras.optimizers.adam(lr=0.00000005, decay=1e-3,beta_1 = 0.9, beta_2 = 0.95,amsgrad=True)\n",
        "\n",
        "# Train the model using RMSprop\n",
        "model.compile(loss='categorical_crossentropy',\n",
        "              optimizer=opt,\n",
        "              metrics=['accuracy'])\n",
        "\n",
        "  \n",
        "  \n"
      ],
      "execution_count": 0,
      "outputs": []
    },
    {
      "metadata": {
        "id": "33ATsjgTsc4-",
        "colab_type": "code",
        "colab": {}
      },
      "cell_type": "code",
      "source": [
        "#data augmentation\n",
        "\n",
        "datagen = ImageDataGenerator(\n",
        "    rotation_range=15,\n",
        "    width_shift_range=0.1,\n",
        "    height_shift_range=0.1,\n",
        "    horizontal_flip=True,\n",
        "    )\n",
        "datagen.fit(x_train) \n",
        "\n"
      ],
      "execution_count": 0,
      "outputs": []
    },
    {
      "metadata": {
        "id": "SCgSiAgItCKS",
        "colab_type": "code",
        "colab": {
          "base_uri": "https://localhost:8080/",
          "height": 408
        },
        "outputId": "fe2d60af-bd54-47ec-b5b4-b89d825a45f0"
      },
      "cell_type": "code",
      "source": [
        "\n",
        "\n",
        "filepath=\"weights-improvement-{epoch:02d}-{val_acc:.4f}.h5\"\n",
        "checkpoint = ModelCheckpoint(filepath, monitor='val_acc', verbose=0, save_best_only=True, mode='max')\n",
        "#callbacks_list = [checkpoint,LearningRateScheduler(lr_schedule)]\n",
        "callbacks_list = [checkpoint]\n",
        "\n",
        "batch_size = 128\n",
        "model.fit_generator(datagen.flow(x_train, y_train, batch_size=batch_size),\\\n",
        "                    steps_per_epoch=x_train.shape[0] // batch_size,epochs=10,\\\n",
        "                    verbose=1,validation_data=(x_test,y_test),callbacks=callbacks_list, shuffle = True)\n",
        "\n",
        "  \n",
        "#testing\n",
        "scores = model.evaluate(x_test, y_test, batch_size=128, verbose=1)\n",
        "print('\\nTest result: %.3f loss: %.3f' % (scores[1]*100,scores[0]))\n"
      ],
      "execution_count": 8,
      "outputs": [
        {
          "output_type": "stream",
          "text": [
            "Epoch 1/10\n",
            "390/390 [==============================] - 56s 144ms/step - loss: 0.1473 - acc: 0.9517 - val_loss: 1.7716 - val_acc: 0.6794\n",
            "Epoch 2/10\n",
            "390/390 [==============================] - 54s 138ms/step - loss: 0.1427 - acc: 0.9542 - val_loss: 1.7717 - val_acc: 0.6796\n",
            "Epoch 3/10\n",
            "390/390 [==============================] - 53s 135ms/step - loss: 0.1449 - acc: 0.9529 - val_loss: 1.7717 - val_acc: 0.6796\n",
            "Epoch 4/10\n",
            "390/390 [==============================] - 52s 134ms/step - loss: 0.1417 - acc: 0.9533 - val_loss: 1.7717 - val_acc: 0.6795\n",
            "Epoch 5/10\n",
            "390/390 [==============================] - 53s 135ms/step - loss: 0.1460 - acc: 0.9517 - val_loss: 1.7717 - val_acc: 0.6795\n",
            "Epoch 6/10\n",
            "390/390 [==============================] - 52s 134ms/step - loss: 0.1470 - acc: 0.9524 - val_loss: 1.7717 - val_acc: 0.6794\n",
            "Epoch 7/10\n",
            "390/390 [==============================] - 52s 134ms/step - loss: 0.1424 - acc: 0.9530 - val_loss: 1.7718 - val_acc: 0.6794\n",
            "Epoch 8/10\n",
            "390/390 [==============================] - 53s 136ms/step - loss: 0.1480 - acc: 0.9526 - val_loss: 1.7718 - val_acc: 0.6795\n",
            "Epoch 9/10\n",
            "390/390 [==============================] - 55s 142ms/step - loss: 0.1468 - acc: 0.9519 - val_loss: 1.7717 - val_acc: 0.6795\n",
            "Epoch 10/10\n",
            "390/390 [==============================] - 53s 135ms/step - loss: 0.1459 - acc: 0.9532 - val_loss: 1.7718 - val_acc: 0.6795\n",
            "10000/10000 [==============================] - 3s 307us/step\n",
            "\n",
            "Test result: 67.950 loss: 1.772\n"
          ],
          "name": "stdout"
        }
      ]
    },
    {
      "metadata": {
        "id": "YXKxX6y4su2d",
        "colab_type": "code",
        "outputId": "c83d0947-277a-43b5-d04d-33d17a1138f3",
        "colab": {
          "base_uri": "https://localhost:8080/",
          "height": 119
        }
      },
      "cell_type": "code",
      "source": [
        "\n",
        "#testing\n",
        "scores = model.evaluate(x_train, y_train, batch_size=128, verbose=1)\n",
        "print('\\nTrain result: %.3f loss: %.3f' % (scores[1]*100,scores[0]))\n",
        "\n",
        "scores = model.evaluate(x_test, y_test, batch_size=128, verbose=1)\n",
        "print('\\nTest result: %.3f loss: %.3f' % (scores[1]*100,scores[0]))\n"
      ],
      "execution_count": 9,
      "outputs": [
        {
          "output_type": "stream",
          "text": [
            "50000/50000 [==============================] - 15s 307us/step\n",
            "\n",
            "Train result: 99.470 loss: 0.020\n",
            "10000/10000 [==============================] - 3s 312us/step\n",
            "\n",
            "Test result: 67.950 loss: 1.772\n"
          ],
          "name": "stdout"
        }
      ]
    },
    {
      "metadata": {
        "id": "Wum7PraIc61U",
        "colab_type": "code",
        "colab": {}
      },
      "cell_type": "code",
      "source": [
        ""
      ],
      "execution_count": 0,
      "outputs": []
    }
  ]
}
